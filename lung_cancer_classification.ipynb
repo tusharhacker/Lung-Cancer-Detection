{
 "cells": [
  {
   "cell_type": "markdown",
   "metadata": {
    "colab_type": "text",
    "id": "t7p0mPlYAfki"
   },
   "source": [
    "Dataset: https://archive.ics.uci.edu/ml/datasets/Lung+Cancer"
   ]
  },
  {
   "cell_type": "code",
   "execution_count": 92,
   "metadata": {
    "colab": {},
    "colab_type": "code",
    "id": "vKcwzjiHAfkm"
   },
   "outputs": [],
   "source": [
    "import numpy as np\n",
    "import matplotlib.pyplot as plt\n",
    "import pandas as pd"
   ]
  },
  {
   "cell_type": "code",
   "execution_count": 93,
   "metadata": {
    "colab": {},
    "colab_type": "code",
    "id": "R3-ofU0_Afku"
   },
   "outputs": [],
   "source": [
    "names = ['random_txt'] * 57"
   ]
  },
  {
   "cell_type": "code",
   "execution_count": 94,
   "metadata": {
    "colab": {
     "base_uri": "https://localhost:8080/",
     "height": 71
    },
    "colab_type": "code",
    "id": "MPb94HA_Afkz",
    "outputId": "d627250d-363f-44ce-f262-61655e05b459"
   },
   "outputs": [
    {
     "name": "stderr",
     "output_type": "stream",
     "text": [
      "c:\\users\\root\\appdata\\local\\programs\\python\\python37-32\\lib\\site-packages\\pandas\\io\\parsers.py:702: UserWarning: Duplicate names specified. This will raise an error in the future.\n",
      "  return _read(filepath_or_buffer, kwds)\n"
     ]
    }
   ],
   "source": [
    "lung_data = pd.read_csv('lung_data.csv', names = names)"
   ]
  },
  {
   "cell_type": "code",
   "execution_count": 95,
   "metadata": {
    "colab": {
     "base_uri": "https://localhost:8080/",
     "height": 253
    },
    "colab_type": "code",
    "id": "sgxaJgdhAfk4",
    "outputId": "6fa876d6-2ed9-4a2c-c9bd-477d45dce0fd"
   },
   "outputs": [
    {
     "data": {
      "text/html": [
       "<div>\n",
       "<style scoped>\n",
       "    .dataframe tbody tr th:only-of-type {\n",
       "        vertical-align: middle;\n",
       "    }\n",
       "\n",
       "    .dataframe tbody tr th {\n",
       "        vertical-align: top;\n",
       "    }\n",
       "\n",
       "    .dataframe thead th {\n",
       "        text-align: right;\n",
       "    }\n",
       "</style>\n",
       "<table border=\"1\" class=\"dataframe\">\n",
       "  <thead>\n",
       "    <tr style=\"text-align: right;\">\n",
       "      <th></th>\n",
       "      <th>random_txt</th>\n",
       "      <th>random_txt.1</th>\n",
       "      <th>random_txt.2</th>\n",
       "      <th>random_txt.3</th>\n",
       "      <th>random_txt.4</th>\n",
       "      <th>random_txt.5</th>\n",
       "      <th>random_txt.6</th>\n",
       "      <th>random_txt.7</th>\n",
       "      <th>random_txt.8</th>\n",
       "      <th>random_txt.9</th>\n",
       "      <th>...</th>\n",
       "      <th>random_txt.47</th>\n",
       "      <th>random_txt.48</th>\n",
       "      <th>random_txt.49</th>\n",
       "      <th>random_txt.50</th>\n",
       "      <th>random_txt.51</th>\n",
       "      <th>random_txt.52</th>\n",
       "      <th>random_txt.53</th>\n",
       "      <th>random_txt.54</th>\n",
       "      <th>random_txt.55</th>\n",
       "      <th>random_txt.56</th>\n",
       "    </tr>\n",
       "  </thead>\n",
       "  <tbody>\n",
       "    <tr>\n",
       "      <th>0</th>\n",
       "      <td>1</td>\n",
       "      <td>0</td>\n",
       "      <td>3</td>\n",
       "      <td>0</td>\n",
       "      <td>?</td>\n",
       "      <td>0</td>\n",
       "      <td>2</td>\n",
       "      <td>2</td>\n",
       "      <td>2</td>\n",
       "      <td>1</td>\n",
       "      <td>...</td>\n",
       "      <td>2</td>\n",
       "      <td>2</td>\n",
       "      <td>2</td>\n",
       "      <td>2</td>\n",
       "      <td>2</td>\n",
       "      <td>1</td>\n",
       "      <td>1</td>\n",
       "      <td>1</td>\n",
       "      <td>2</td>\n",
       "      <td>2</td>\n",
       "    </tr>\n",
       "    <tr>\n",
       "      <th>1</th>\n",
       "      <td>1</td>\n",
       "      <td>0</td>\n",
       "      <td>3</td>\n",
       "      <td>3</td>\n",
       "      <td>1</td>\n",
       "      <td>0</td>\n",
       "      <td>3</td>\n",
       "      <td>1</td>\n",
       "      <td>3</td>\n",
       "      <td>1</td>\n",
       "      <td>...</td>\n",
       "      <td>2</td>\n",
       "      <td>2</td>\n",
       "      <td>2</td>\n",
       "      <td>2</td>\n",
       "      <td>2</td>\n",
       "      <td>2</td>\n",
       "      <td>2</td>\n",
       "      <td>1</td>\n",
       "      <td>2</td>\n",
       "      <td>2</td>\n",
       "    </tr>\n",
       "    <tr>\n",
       "      <th>2</th>\n",
       "      <td>1</td>\n",
       "      <td>0</td>\n",
       "      <td>3</td>\n",
       "      <td>3</td>\n",
       "      <td>2</td>\n",
       "      <td>0</td>\n",
       "      <td>3</td>\n",
       "      <td>3</td>\n",
       "      <td>3</td>\n",
       "      <td>1</td>\n",
       "      <td>...</td>\n",
       "      <td>2</td>\n",
       "      <td>2</td>\n",
       "      <td>2</td>\n",
       "      <td>2</td>\n",
       "      <td>2</td>\n",
       "      <td>2</td>\n",
       "      <td>2</td>\n",
       "      <td>2</td>\n",
       "      <td>1</td>\n",
       "      <td>2</td>\n",
       "    </tr>\n",
       "    <tr>\n",
       "      <th>3</th>\n",
       "      <td>1</td>\n",
       "      <td>0</td>\n",
       "      <td>2</td>\n",
       "      <td>3</td>\n",
       "      <td>2</td>\n",
       "      <td>1</td>\n",
       "      <td>3</td>\n",
       "      <td>3</td>\n",
       "      <td>3</td>\n",
       "      <td>1</td>\n",
       "      <td>...</td>\n",
       "      <td>2</td>\n",
       "      <td>2</td>\n",
       "      <td>2</td>\n",
       "      <td>2</td>\n",
       "      <td>2</td>\n",
       "      <td>2</td>\n",
       "      <td>2</td>\n",
       "      <td>2</td>\n",
       "      <td>2</td>\n",
       "      <td>2</td>\n",
       "    </tr>\n",
       "    <tr>\n",
       "      <th>4</th>\n",
       "      <td>1</td>\n",
       "      <td>0</td>\n",
       "      <td>3</td>\n",
       "      <td>2</td>\n",
       "      <td>1</td>\n",
       "      <td>1</td>\n",
       "      <td>3</td>\n",
       "      <td>3</td>\n",
       "      <td>3</td>\n",
       "      <td>2</td>\n",
       "      <td>...</td>\n",
       "      <td>2</td>\n",
       "      <td>2</td>\n",
       "      <td>2</td>\n",
       "      <td>2</td>\n",
       "      <td>2</td>\n",
       "      <td>2</td>\n",
       "      <td>2</td>\n",
       "      <td>1</td>\n",
       "      <td>2</td>\n",
       "      <td>2</td>\n",
       "    </tr>\n",
       "  </tbody>\n",
       "</table>\n",
       "<p>5 rows × 57 columns</p>\n",
       "</div>"
      ],
      "text/plain": [
       "   random_txt  random_txt.1  random_txt.2  random_txt.3 random_txt.4  \\\n",
       "0           1             0             3             0            ?   \n",
       "1           1             0             3             3            1   \n",
       "2           1             0             3             3            2   \n",
       "3           1             0             2             3            2   \n",
       "4           1             0             3             2            1   \n",
       "\n",
       "   random_txt.5  random_txt.6  random_txt.7  random_txt.8  random_txt.9  ...  \\\n",
       "0             0             2             2             2             1  ...   \n",
       "1             0             3             1             3             1  ...   \n",
       "2             0             3             3             3             1  ...   \n",
       "3             1             3             3             3             1  ...   \n",
       "4             1             3             3             3             2  ...   \n",
       "\n",
       "   random_txt.47  random_txt.48  random_txt.49  random_txt.50  random_txt.51  \\\n",
       "0              2              2              2              2              2   \n",
       "1              2              2              2              2              2   \n",
       "2              2              2              2              2              2   \n",
       "3              2              2              2              2              2   \n",
       "4              2              2              2              2              2   \n",
       "\n",
       "   random_txt.52  random_txt.53  random_txt.54  random_txt.55  random_txt.56  \n",
       "0              1              1              1              2              2  \n",
       "1              2              2              1              2              2  \n",
       "2              2              2              2              1              2  \n",
       "3              2              2              2              2              2  \n",
       "4              2              2              1              2              2  \n",
       "\n",
       "[5 rows x 57 columns]"
      ]
     },
     "execution_count": 95,
     "metadata": {},
     "output_type": "execute_result"
    }
   ],
   "source": [
    "lung_data.head()"
   ]
  },
  {
   "cell_type": "code",
   "execution_count": 96,
   "metadata": {
    "colab": {
     "base_uri": "https://localhost:8080/",
     "height": 34
    },
    "colab_type": "code",
    "id": "BEy5z9UUKxVB",
    "outputId": "d1f14e79-0bf5-4fe0-aba8-52e82ff1da9d"
   },
   "outputs": [
    {
     "data": {
      "text/plain": [
       "(27, 57)"
      ]
     },
     "execution_count": 96,
     "metadata": {},
     "output_type": "execute_result"
    }
   ],
   "source": [
    "# ? in dataset in rows 0, 14, 18, 18, 20, 25\n",
    "lung_data = lung_data.drop([0, 14, 18, 20, 25], axis=0)\n",
    "\n",
    "lung_data.shape"
   ]
  },
  {
   "cell_type": "markdown",
   "metadata": {
    "colab_type": "text",
    "id": "Vy6jFg4pAflE"
   },
   "source": [
    "# Step 1. Preprocessing"
   ]
  },
  {
   "cell_type": "markdown",
   "metadata": {
    "colab_type": "text",
    "id": "ijZzciUpAflG"
   },
   "source": [
    "###  Step 1.0 Features vs Labels(classes)"
   ]
  },
  {
   "cell_type": "code",
   "execution_count": 97,
   "metadata": {
    "colab": {},
    "colab_type": "code",
    "id": "qaouuwrrH7W8"
   },
   "outputs": [],
   "source": [
    "classes = lung_data.iloc[:, 0].values\n",
    "features = lung_data.iloc[:, 1:].values"
   ]
  },
  {
   "cell_type": "code",
   "execution_count": 98,
   "metadata": {
    "colab": {
     "base_uri": "https://localhost:8080/",
     "height": 51
    },
    "colab_type": "code",
    "id": "E8lGWAPFGukM",
    "outputId": "bbb796ac-626e-4a67-e762-6baab97656ce"
   },
   "outputs": [
    {
     "name": "stdout",
     "output_type": "stream",
     "text": [
      "(27,)\n",
      "(27, 56)\n"
     ]
    }
   ],
   "source": [
    "print(classes.shape)\n",
    "print(features.shape)"
   ]
  },
  {
   "cell_type": "markdown",
   "metadata": {
    "colab_type": "text",
    "id": "dYJuM0u6AflV"
   },
   "source": [
    "### Step 1.1 Finding the best features"
   ]
  },
  {
   "cell_type": "markdown",
   "metadata": {
    "colab_type": "text",
    "id": "OQcH-PxWAflW"
   },
   "source": [
    "Because we have 56 different feautres, for each sample, we want to know what are those features which are the most relevant for our \n",
    "classification."
   ]
  },
  {
   "cell_type": "code",
   "execution_count": 99,
   "metadata": {
    "colab": {},
    "colab_type": "code",
    "id": "ehGWDXgUAflY"
   },
   "outputs": [],
   "source": [
    "from sklearn.ensemble import ExtraTreesClassifier"
   ]
  },
  {
   "cell_type": "code",
   "execution_count": 100,
   "metadata": {
    "colab": {
     "base_uri": "https://localhost:8080/",
     "height": 119
    },
    "colab_type": "code",
    "id": "PO9QjkTzAfld",
    "outputId": "82cd31a6-0d01-46a7-c8aa-a3abf420205c"
   },
   "outputs": [
    {
     "data": {
      "text/plain": [
       "ExtraTreesClassifier(bootstrap=False, class_weight=None, criterion='gini',\n",
       "           max_depth=None, max_features='auto', max_leaf_nodes=None,\n",
       "           min_impurity_decrease=0.0, min_impurity_split=None,\n",
       "           min_samples_leaf=1, min_samples_split=2,\n",
       "           min_weight_fraction_leaf=0.0, n_estimators=10, n_jobs=None,\n",
       "           oob_score=False, random_state=None, verbose=0, warm_start=False)"
      ]
     },
     "execution_count": 100,
     "metadata": {},
     "output_type": "execute_result"
    }
   ],
   "source": [
    "etc = ExtraTreesClassifier(n_estimators=10)\n",
    "\n",
    "etc.fit(features, classes)"
   ]
  },
  {
   "cell_type": "code",
   "execution_count": 101,
   "metadata": {
    "colab": {
     "base_uri": "https://localhost:8080/",
     "height": 187
    },
    "colab_type": "code",
    "id": "vB11f5J7Aflj",
    "outputId": "b974fce8-f643-4f04-934c-8abd627c64db"
   },
   "outputs": [
    {
     "name": "stdout",
     "output_type": "stream",
     "text": [
      "[0.         0.04937834 0.00557851 0.01171488 0.00780992 0.08120962\n",
      " 0.00743802 0.07627113 0.00688017 0.01394628 0.01636364 0.03719008\n",
      " 0.01345382 0.03562359 0.03673554 0.         0.         0.00458678\n",
      " 0.02182113 0.09376413 0.01115702 0.00278926 0.0680344  0.00340909\n",
      " 0.01329325 0.01208678 0.01896694 0.00743802 0.00371901 0.\n",
      " 0.02017683 0.01283058 0.00278926 0.00061983 0.02860094 0.\n",
      " 0.01676606 0.02018879 0.         0.01115702 0.00883264 0.00557851\n",
      " 0.0203118  0.01979044 0.00753099 0.006142   0.00666322 0.00502066\n",
      " 0.01898022 0.00334711 0.         0.0097624  0.06040779 0.02194317\n",
      " 0.00573347 0.02616692]\n"
     ]
    }
   ],
   "source": [
    "print(etc.feature_importances_)\n",
    "indices = np.argsort(etc.feature_importances_)[::-1]"
   ]
  },
  {
   "cell_type": "code",
   "execution_count": 102,
   "metadata": {
    "colab": {
     "base_uri": "https://localhost:8080/",
     "height": 670
    },
    "colab_type": "code",
    "id": "R2tQWh0jAflr",
    "outputId": "26a5941a-9ce8-4b55-f8d5-2ae925ed0047"
   },
   "outputs": [
    {
     "data": {
      "image/png": "[encoded data removed]",
      "text/plain": [
       "<Figure size 1120x800 with 1 Axes>"
      ]
     },
     "metadata": {},
     "output_type": "display_data"
    }
   ],
   "source": [
    "plt.figure(num=None, figsize=(14, 10), dpi=80, facecolor='w')\n",
    "plt.title(\"Feature importances\")\n",
    "plt.bar(range(features.shape[1]), etc.feature_importances_[indices],\n",
    "       color=\"r\", align=\"center\")\n",
    "plt.xticks(range(features.shape[1]), indices)\n",
    "plt.show()"
   ]
  },
  {
   "cell_type": "markdown",
   "metadata": {
    "colab_type": "text",
    "id": "BJt8UdYfAflx"
   },
   "source": [
    "### Step 1.2 Scaling data"
   ]
  },
  {
   "cell_type": "code",
   "execution_count": 103,
   "metadata": {
    "colab": {},
    "colab_type": "code",
    "id": "swaK8ld2Afly"
   },
   "outputs": [],
   "source": [
    "from sklearn.preprocessing import StandardScaler"
   ]
  },
  {
   "cell_type": "code",
   "execution_count": 104,
   "metadata": {
    "colab": {},
    "colab_type": "code",
    "id": "93ntmbykAfl3"
   },
   "outputs": [],
   "source": [
    "scaler = StandardScaler()\n",
    "scaled_features = scaler.fit_transform(np.float64(features))"
   ]
  },
  {
   "cell_type": "markdown",
   "metadata": {
    "colab_type": "text",
    "id": "nYV08xxuAfl7"
   },
   "source": [
    "### Step 1.3 Train and test split"
   ]
  },
  {
   "cell_type": "code",
   "execution_count": 105,
   "metadata": {
    "colab": {},
    "colab_type": "code",
    "id": "gwlNZIyAAfl9"
   },
   "outputs": [],
   "source": [
    "from sklearn.model_selection import train_test_split"
   ]
  },
  {
   "cell_type": "code",
   "execution_count": 106,
   "metadata": {
    "colab": {},
    "colab_type": "code",
    "id": "8kkoE-9IAfmD"
   },
   "outputs": [],
   "source": [
    "X_train, X_test, y_train, y_test = train_test_split(features, classes, test_size=0.2)\n",
    "X_train_scaled, X_test_scaled, y_train_scaled, y_test_scaled = train_test_split(scaled_features, classes, test_size=0.2)"
   ]
  },
  {
   "cell_type": "code",
   "execution_count": 107,
   "metadata": {
    "colab": {
     "base_uri": "https://localhost:8080/",
     "height": 85
    },
    "colab_type": "code",
    "id": "zjfXwmrpAfmM",
    "outputId": "01f240a7-1cf1-4f67-fbff-fc85790e20d8"
   },
   "outputs": [
    {
     "name": "stdout",
     "output_type": "stream",
     "text": [
      "X_train shape --> (21, 56)\n",
      "y_train shape --> (21,)\n",
      "X_test shape --> (6, 56)\n",
      "y_test shape --> (6,)\n"
     ]
    }
   ],
   "source": [
    "print(\"X_train shape --> {}\".format(X_train.shape))\n",
    "print(\"y_train shape --> {}\".format(y_train.shape))\n",
    "print(\"X_test shape --> {}\".format(X_test.shape))\n",
    "print(\"y_test shape --> {}\".format(y_test.shape))"
   ]
  },
  {
   "cell_type": "markdown",
   "metadata": {
    "colab_type": "text",
    "id": "UPu-dB2WAfmY"
   },
   "source": [
    "# Step 2 Predicting"
   ]
  },
  {
   "cell_type": "markdown",
   "metadata": {
    "colab_type": "text",
    "id": "zmD3ZAB2Afmc"
   },
   "source": [
    "### Step 2.1 K Nearest Neighbors"
   ]
  },
  {
   "cell_type": "code",
   "execution_count": 108,
   "metadata": {
    "colab": {},
    "colab_type": "code",
    "id": "n1hX6JTSAfmf"
   },
   "outputs": [],
   "source": [
    "from sklearn.neighbors import KNeighborsClassifier\n",
    "from sklearn.metrics import accuracy_score"
   ]
  },
  {
   "cell_type": "markdown",
   "metadata": {
    "colab_type": "text",
    "id": "dGrbNlU1Afmn"
   },
   "source": [
    "#### 2.1.1 Test on the unscaled data"
   ]
  },
  {
   "cell_type": "code",
   "execution_count": 109,
   "metadata": {
    "colab": {
     "base_uri": "https://localhost:8080/",
     "height": 68
    },
    "colab_type": "code",
    "id": "N0S8NuCYAfmo",
    "outputId": "f7096e6e-ad21-453a-97e6-71f9ca13153c"
   },
   "outputs": [
    {
     "data": {
      "text/plain": [
       "KNeighborsClassifier(algorithm='auto', leaf_size=30, metric='minkowski',\n",
       "           metric_params=None, n_jobs=None, n_neighbors=5, p=2,\n",
       "           weights='uniform')"
      ]
     },
     "execution_count": 109,
     "metadata": {},
     "output_type": "execute_result"
    }
   ],
   "source": [
    "knn_sklearn = KNeighborsClassifier()\n",
    "knn_sklearn.fit(X_train, y_train)"
   ]
  },
  {
   "cell_type": "code",
   "execution_count": 110,
   "metadata": {
    "colab": {
     "base_uri": "https://localhost:8080/",
     "height": 34
    },
    "colab_type": "code",
    "id": "svwEh2lxAfmt",
    "outputId": "41a72c69-042e-4efe-e3af-5d8219c10b24"
   },
   "outputs": [
    {
     "name": "stdout",
     "output_type": "stream",
     "text": [
      "KNN algorithm on the unscalled data got: 50.0%\n"
     ]
    }
   ],
   "source": [
    "print(\"KNN algorithm on the unscalled data got: {}%\".format(accuracy_score(y_test, knn_sklearn.predict(X_test))*100))"
   ]
  },
  {
   "cell_type": "markdown",
   "metadata": {
    "colab_type": "text",
    "id": "nMfIsav1Afmz"
   },
   "source": [
    "#### 2.1.2 Test on the scaled data"
   ]
  },
  {
   "cell_type": "code",
   "execution_count": 111,
   "metadata": {
    "colab": {
     "base_uri": "https://localhost:8080/",
     "height": 68
    },
    "colab_type": "code",
    "id": "rp9gT5iVAfm0",
    "outputId": "60110989-7c6d-4f8c-8599-8ab3951233c3"
   },
   "outputs": [
    {
     "data": {
      "text/plain": [
       "KNeighborsClassifier(algorithm='auto', leaf_size=30, metric='minkowski',\n",
       "           metric_params=None, n_jobs=None, n_neighbors=5, p=2,\n",
       "           weights='uniform')"
      ]
     },
     "execution_count": 111,
     "metadata": {},
     "output_type": "execute_result"
    }
   ],
   "source": [
    "knn_sklearn_scaled = KNeighborsClassifier()\n",
    "knn_sklearn_scaled.fit(X_train_scaled, y_train_scaled)"
   ]
  },
  {
   "cell_type": "code",
   "execution_count": 112,
   "metadata": {
    "colab": {
     "base_uri": "https://localhost:8080/",
     "height": 34
    },
    "colab_type": "code",
    "id": "IgW8PfN4Afm5",
    "outputId": "32465e25-d69b-4d60-a782-49a92d88b171"
   },
   "outputs": [
    {
     "name": "stdout",
     "output_type": "stream",
     "text": [
      "KNN algorithm on the scalled data got: 50.0%\n"
     ]
    }
   ],
   "source": [
    "print(\"KNN algorithm on the scalled data got: {}%\".format(accuracy_score(y_test_scaled, knn_sklearn_scaled.predict(X_test_scaled))*100))"
   ]
  },
  {
   "cell_type": "code",
   "execution_count": 115,
   "metadata": {
    "colab": {
     "base_uri": "https://localhost:8080/",
     "height": 68
    },
    "colab_type": "code",
    "id": "aj8XlgUxAfnE",
    "outputId": "7a6ece69-d7fa-4753-f787-a29c733eaaf5"
   },
   "outputs": [
    {
     "data": {
      "text/plain": [
       "KNeighborsClassifier(algorithm='auto', leaf_size=30, metric='minkowski',\n",
       "           metric_params=None, n_jobs=None, n_neighbors=10, p=2,\n",
       "           weights='uniform')"
      ]
     },
     "execution_count": 115,
     "metadata": {},
     "output_type": "execute_result"
    }
   ],
   "source": [
    "knn_sklearn_lower = KNeighborsClassifier(n_neighbors=10)\n",
    "knn_sklearn_lower.fit(X_train, y_train)"
   ]
  },
  {
   "cell_type": "code",
   "execution_count": 116,
   "metadata": {
    "colab": {
     "base_uri": "https://localhost:8080/",
     "height": 34
    },
    "colab_type": "code",
    "id": "G3zIUSxAAfnJ",
    "outputId": "81ca9946-efa5-478a-d358-12f506aedd31"
   },
   "outputs": [
    {
     "name": "stdout",
     "output_type": "stream",
     "text": [
      "KNN algorithm on the unscalled data, k=3, got: 50.0%\n"
     ]
    }
   ],
   "source": [
    "print(\"KNN algorithm on the unscalled data, k=3, got: {}%\".format(accuracy_score(y_test, knn_sklearn_lower.predict(X_test))*100))"
   ]
  },
  {
   "cell_type": "markdown",
   "metadata": {
    "colab_type": "text",
    "id": "g9iZxKiDAfnR"
   },
   "source": [
    "### Step 2.2 SVM"
   ]
  },
  {
   "cell_type": "code",
   "execution_count": 117,
   "metadata": {
    "colab": {},
    "colab_type": "code",
    "id": "qkqpL46yAfnV"
   },
   "outputs": [],
   "source": [
    "from sklearn.svm import SVC"
   ]
  },
  {
   "cell_type": "code",
   "execution_count": 118,
   "metadata": {
    "colab": {},
    "colab_type": "code",
    "id": "anGgpOirAfnb"
   },
   "outputs": [],
   "source": [
    "#Default setting for SVC\n",
    "svclasifier = SVC(C=1.0, kernel='rbf', degree=3, gamma='auto', coef0=0.0, shrinking=True, probability=False, tol=0.001, cache_size=200, class_weight=None, verbose=False, max_iter=-1, decision_function_shape=None, random_state=None)"
   ]
  },
  {
   "cell_type": "code",
   "execution_count": 119,
   "metadata": {
    "colab": {
     "base_uri": "https://localhost:8080/",
     "height": 85
    },
    "colab_type": "code",
    "id": "AAQWqkR5Afnh",
    "outputId": "bff363b0-d042-44c7-ea8b-fdb4936f6557"
   },
   "outputs": [
    {
     "data": {
      "text/plain": [
       "SVC(C=1.0, cache_size=200, class_weight=None, coef0=0.0,\n",
       "  decision_function_shape=None, degree=3, gamma='auto', kernel='rbf',\n",
       "  max_iter=-1, probability=False, random_state=None, shrinking=True,\n",
       "  tol=0.001, verbose=False)"
      ]
     },
     "execution_count": 119,
     "metadata": {},
     "output_type": "execute_result"
    }
   ],
   "source": [
    "svclasifier.fit(X_train, y_train)"
   ]
  },
  {
   "cell_type": "code",
   "execution_count": 120,
   "metadata": {
    "colab": {
     "base_uri": "https://localhost:8080/",
     "height": 34
    },
    "colab_type": "code",
    "id": "0CwH4ZB5Afnr",
    "outputId": "f4877c59-9b4f-4f40-dfff-c5e7ab25a4bb"
   },
   "outputs": [
    {
     "name": "stdout",
     "output_type": "stream",
     "text": [
      "Default SVC algorithm on the unscalled data, got: 66.66666666666666%\n"
     ]
    }
   ],
   "source": [
    "print(\"Default SVC algorithm on the unscalled data, got: {}%\".format(accuracy_score(y_test, svclasifier.predict(X_test))*100))"
   ]
  },
  {
   "cell_type": "markdown",
   "metadata": {},
   "source": [
    "# Confusion Matrix"
   ]
  },
  {
   "cell_type": "code",
   "execution_count": 121,
   "metadata": {
    "colab": {
     "base_uri": "https://localhost:8080/",
     "height": 294
    },
    "colab_type": "code",
    "id": "dZU8vI1pAfot",
    "outputId": "54512790-fd4f-4f82-8de0-b11aa907438b"
   },
   "outputs": [
    {
     "data": {
      "image/png": "[encoded data removed]",
      "text/plain": [
       "<Figure size 288x288 with 1 Axes>"
      ]
     },
     "metadata": {
      "needs_background": "light"
     },
     "output_type": "display_data"
    }
   ],
   "source": [
    "from sklearn.metrics import confusion_matrix\n",
    "%matplotlib inline\n",
    "confusion_matrix = confusion_matrix(y_test, set_svm.predict(X_test))\n",
    "plt.matshow(confusion_matrix)\n",
    "plt.title('Confusion matrix')\n",
    "plt.ylabel('True label')\n",
    "plt.xlabel('Predicted label')\n",
    "plt.show()"
   ]
  }
 ],
 "metadata": {
  "celltoolbar": "Raw Cell Format",
  "colab": {
   "name": "lung_cancer_classification.ipynb",
   "provenance": [],
   "version": "0.3.2"
  },
  "kernelspec": {
   "display_name": "Python 3",
   "language": "python",
   "name": "python3"
  },
  "language_info": {
   "codemirror_mode": {
    "name": "ipython",
    "version": 3
   },
   "file_extension": ".py",
   "mimetype": "text/x-python",
   "name": "python",
   "nbconvert_exporter": "python",
   "pygments_lexer": "ipython3",
   "version": "3.7.1"
  }
 },
 "nbformat": 4,
 "nbformat_minor": 1
}
